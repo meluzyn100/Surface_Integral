{
 "cells": [
  {
   "cell_type": "markdown",
   "metadata": {},
   "source": [
    "# Zadanie dodatkowe"
   ]
  },
  {
   "cell_type": "markdown",
   "metadata": {},
   "source": [
    "## Metoda numerycznego obliczania całek\n",
    "W celu obliczenia przepływu wykorzystam z numerycznego obliczania całki podwójnej za pomocą sum:\n",
    "\\begin{gather*}\n",
    "   \\iint_R f \\: d\\!A= \\int_a^b \\int_{g(u)}^{h(u)}f(u,v)dvdu=\\sum_{i=0}^n\\sum_{j=0}^m f(x^*_{ij})d\\!A_{ij}\n",
    "\\end{gather*}"
   ]
  },
  {
   "cell_type": "markdown",
   "metadata": {},
   "source": [
    "Gdzie:\n",
    "* $d\\!A_{ij}$ - pole powierzchni obszaru w $R$\n",
    "* $x^*_{ij}$ - punkt na obszarze $A_{ij}$"
   ]
  },
  {
   "cell_type": "markdown",
   "metadata": {},
   "source": [
    "W naszej metodzie numerycznej będziemy przyjmować: <br>\n",
    "\\begin{gather}\n",
    "\\Delta u = \\Delta v\\\\\n",
    "d\\!A = \\Delta u \\Delta v \\\\\n",
    "x^*_{ij}=\\left( \\frac{u_{i-1}+u_{i}}{2},\\frac{v_{j-1}+v_{j}}{2}\\right)\n",
    "\\end{gather}\n",
    "\n",
    "Czyli $dA$ jest polem kwadratu o boku $\\Delta u$, a $x^*_{ij}$ środkiem kwadratu po którym sumujemy. <br>\n",
    "![Portret fazowy](figure/koło-kwadrat.png)\n"
   ]
  },
  {
   "cell_type": "markdown",
   "metadata": {},
   "source": [
    "## Przepływ\n",
    "Z wykładu wiemy, że przepływy wyraża się wzorem:\n",
    "\\begin{gather*}\n",
    "\\iint_{S}F \\cdot n \\: d\\!A=\\iint_{R}F(r(u,v)) \\cdot N(u,v) \\: dudv\n",
    "\\end{gather*}"
   ]
  },
  {
   "cell_type": "markdown",
   "metadata": {},
   "source": [
    "Zatem nasza funkcja $f$ wynosi:\n",
    "\\begin{gather*}\n",
    "     f(u,v) = F(r(u,v)) \\cdot N(u,v)\n",
    "\\end{gather*}\n",
    "wiemy również ze wektor normalny $N$ wyraża się wzorem:\n",
    "\\begin{gather*}\n",
    "    N=r_u \\times r_v\\\\\n",
    "    r_u=\\frac{\\partial r}{\\partial u}\\\\\n",
    "    r_v=\\frac{\\partial r}{\\partial v}\n",
    "\\end{gather*}"
   ]
  },
  {
   "cell_type": "markdown",
   "metadata": {},
   "source": [
    "Zatem do numerycznego obliczania naszego przepływu brakuje nam jeszcze sposobu, aby obliczyć pochodne cząstkowe, w tym cellu skorzystamy z definicji pochodnej:\n",
    "\\begin{gather}\n",
    "    f'(x_0) = \\lim_{h->0} \\frac{f(x_0+h)-f(x_0)}{h}\n",
    "\\end{gather}\n",
    "Zatem dobierając dostatecznie małe $h$ jesteśmy w stanie przybliżyć wartość pochodnej w danym punkcie."
   ]
  },
  {
   "cell_type": "markdown",
   "metadata": {},
   "source": [
    "## Program"
   ]
  },
  {
   "cell_type": "code",
   "execution_count": null,
   "metadata": {},
   "outputs": [],
   "source": [
    "import math\n",
    "import sympy\n",
    "import numpy as np\n",
    "from src.flux import flux\n",
    "from sympy.abc import x, y, z\n",
    "from sympy import (\n",
    "    sin,\n",
    "    cos,\n",
    "    tan,\n",
    "    exp,\n",
    "    log,\n",
    "    sqrt,\n",
    "    pi,\n",
    "    cosh,\n",
    "    sinh,\n",
    ")\n",
    "\n",
    "u = sympy.symbols(\"u\")\n",
    "v = sympy.symbols(\"v\")\n",
    "pi = np.pi\n",
    "\n",
    "\n",
    "def calculate_errors(computed_value, exact_value):\n",
    "    absolute_error = abs(exact_value - computed_value)\n",
    "    relative_error = abs((exact_value - computed_value) / exact_value) * 100\n",
    "    print(f\"Computed Value: {computed_value}\")\n",
    "    print(f\"Absolute Error: {absolute_error}\")\n",
    "    print(f\"Relative Error: {relative_error:.2f}%\")"
   ]
  },
  {
   "cell_type": "markdown",
   "metadata": {},
   "source": [
    "## Zad 1"
   ]
  },
  {
   "cell_type": "markdown",
   "metadata": {},
   "source": [
    "### a)\n",
    "\n",
    "\\begin{gather}\n",
    "    F=[2x,5y,0],\\quad S:r=[u,v,4u+3v],\\quad u\\in[0,1],\\quad v\\in[-8,8]\n",
    "\\end{gather}\n",
    "Dokładna wartość naszego przepływu wynosi:\n",
    "\\begin{gather}\n",
    "    \\Phi = -64\n",
    "\\end{gather}"
   ]
  },
  {
   "cell_type": "code",
   "execution_count": 2,
   "metadata": {},
   "outputs": [
    {
     "name": "stdout",
     "output_type": "stream",
     "text": [
      "Computed Value: -63.99999999995913\n",
      "Absolute Error: 4.087041816092096e-11\n",
      "Relative Error: 0.00%\n"
     ]
    }
   ],
   "source": [
    "zad3_a = flux([2 * x, 5 * y, 0], [u, v, 4 * u + 3 * v], [0, 1], [-8, 8], 0.005)\n",
    "calculate_errors(zad3_a, -64)"
   ]
  },
  {
   "cell_type": "markdown",
   "metadata": {},
   "source": [
    "## b)\n",
    "\n",
    "\\begin{gather}\n",
    "    F=[x^2,y^2,z^2],\\quad S: x+y+z=4,\\quad x\\ge 0,\\quad y\\ge 0,\\quad z\\ge0\\\\\n",
    "    r=[u,v,4-u-v]\\quad u\\in [0,4],\\quad v\\in[0,4-u]\n",
    "\\end{gather}\n",
    "Dokładna wartość naszego przepływu wynosi:\n",
    "\\begin{gather}\n",
    "    \\Phi = 64\n",
    "\\end{gather}"
   ]
  },
  {
   "cell_type": "code",
   "execution_count": 3,
   "metadata": {},
   "outputs": [
    {
     "name": "stdout",
     "output_type": "stream",
     "text": [
      "Computed Value: 64.06293046812412\n",
      "Absolute Error: 0.06293046812412229\n",
      "Relative Error: 0.10%\n"
     ]
    }
   ],
   "source": [
    "zad3_b = flux([x**2, y**2, z**2], [u, v, 4 - u - v], [0, 4], [0, 4 - u], 0.0025)\n",
    "calculate_errors(zad3_b, 64)"
   ]
  },
  {
   "cell_type": "markdown",
   "metadata": {},
   "source": [
    "## c)\n",
    "\n",
    "\\begin{gather}\n",
    "    F=[x-y,y-x,z-y],\\quad S:r=[u\\cos(v),u\\sin(v),u]\\,\\quad u\\in[0,3]\\quad v\\in[0,\\pi]\n",
    "\\end{gather}\n",
    "Dokładna wartość naszego przepływu wynosi:\n",
    "\\begin{gather}\n",
    "    \\Phi = -18\n",
    "\\end{gather}\n"
   ]
  },
  {
   "cell_type": "code",
   "execution_count": 4,
   "metadata": {},
   "outputs": [
    {
     "name": "stdout",
     "output_type": "stream",
     "text": [
      "Computed Value: -18.04007300883652\n",
      "Absolute Error: 0.04007300883651865\n",
      "Relative Error: 0.22%\n"
     ]
    }
   ],
   "source": [
    "zad3_c = flux(\n",
    "    [x - z, y - x, z - y], [u * cos(v), u * sin(v), u], [0, 3], [0, pi], 0.005\n",
    ")\n",
    "calculate_errors(zad3_c, -18)"
   ]
  },
  {
   "cell_type": "markdown",
   "metadata": {},
   "source": [
    "## d)\n",
    "\n",
    "\\begin{gather}\n",
    "    F=[x,y,z],\\quad S:r=[u\\cos(v),u\\sin(v),u^2]\\,\\quad u\\in[0,4]\\quad v\\in[-\\pi,\\pi]\n",
    "\\end{gather}\n",
    "Dokładna wartość naszego przepływu wynosi:\n",
    "\\begin{gather}\n",
    "    \\Phi = -128\\pi\n",
    "\\end{gather}\n",
    "\n"
   ]
  },
  {
   "cell_type": "code",
   "execution_count": 5,
   "metadata": {},
   "outputs": [
    {
     "name": "stdout",
     "output_type": "stream",
     "text": [
      "Computed Value: -404.0641750331188\n",
      "Absolute Error: 1.9403153736252534\n",
      "Relative Error: 0.48%\n"
     ]
    }
   ],
   "source": [
    "zad3_d = flux([x, y, z], [u * cos(v), u * sin(v), u**2], [0, 4], [-pi, pi], 0.0125)\n",
    "calculate_errors(zad3_d, -128 * pi)"
   ]
  },
  {
   "cell_type": "markdown",
   "metadata": {},
   "source": [
    "## e)\n",
    "\n",
    "\\begin{gather}\n",
    "    F=[\\tan(xy),x^2y,-z],\\quad S:y^2+\\frac{1}{9}z^2=1,\\quad x\\in[1,4]\\\\\n",
    "    r=[u,cos(v),-3sin(v)],\\quad u\\in[1,4],\\quad v\\in[0,2\\pi]\n",
    "\\end{gather}\n",
    "Dokładna wartość naszego przepływu wynosi:\n",
    "\\begin{gather}\n",
    "    \\Phi = 54\\pi\n",
    "\\end{gather}\n"
   ]
  },
  {
   "cell_type": "code",
   "execution_count": 6,
   "metadata": {},
   "outputs": [
    {
     "name": "stdout",
     "output_type": "stream",
     "text": [
      "Computed Value: 169.75956250146479\n",
      "Absolute Error: 0.11355920761596394\n",
      "Relative Error: 0.07%\n"
     ]
    }
   ],
   "source": [
    "zad3_e = flux(\n",
    "    [tan(x * y), x**2 * y, -z], [u, cos(v), -3 * sin(v)], [1, 4], [0, 2 * pi], 0.005\n",
    ")\n",
    "calculate_errors(zad3_e, 54 * pi)"
   ]
  },
  {
   "cell_type": "markdown",
   "metadata": {},
   "source": [
    "## f)\n",
    "\n",
    "\\begin{gather}\n",
    "    F=[cosh(y),0,sinh(x)],\\quad S:z=x+y^2,\\quad x\\in[0,1],\\quad y\\in [0,x]  \\\\\n",
    "\\end{gather}\n",
    "Dokładna wartość naszego przepływu wynosi:\n",
    "\\begin{gather}\n",
    "    \\Phi = 1-\\sinh(1)\n",
    "\\end{gather}"
   ]
  },
  {
   "cell_type": "code",
   "execution_count": 7,
   "metadata": {},
   "outputs": [
    {
     "name": "stdout",
     "output_type": "stream",
     "text": [
      "Computed Value: -0.1745061825413474\n",
      "Absolute Error: 0.0006950111024539851\n",
      "Relative Error: 0.40%\n"
     ]
    }
   ],
   "source": [
    "zad3_f = flux([cosh(y), 0, sinh(x)], [u, v, u + v**2], [0, 1], [0, u], 0.0025)\n",
    "calculate_errors(zad3_f, 1 - math.sinh(1))"
   ]
  },
  {
   "cell_type": "markdown",
   "metadata": {},
   "source": [
    "## g)\n",
    "\n",
    "\\begin{gather}\n",
    "    F=[y^2,x^2,z^4],\\quad S:z=4\\sqrt{x^2+y^2},\\quad z\\in[0,8],\\quad y\\ge 0  \\\\\n",
    "    r=[u,v,4\\sqrt{u^2+v^2}],\\quad u\\in [-2,2],\\quad v\\in [0,\\sqrt{4-u^2}]\n",
    "\\end{gather}\n",
    "Dokładna wartość naszego przepływu wynosi:\n",
    "\\begin{gather}\n",
    "    \\Phi = \\frac{8192}{3}\\pi\n",
    "\\end{gather}"
   ]
  },
  {
   "cell_type": "code",
   "execution_count": 8,
   "metadata": {},
   "outputs": [
    {
     "name": "stdout",
     "output_type": "stream",
     "text": [
      "Computed Value: 8606.775292952676\n",
      "Absolute Error: 28.13295355014816\n",
      "Relative Error: 0.33%\n"
     ]
    }
   ],
   "source": [
    "zad3_g = flux(\n",
    "    [y**2, x**2, z**4],\n",
    "    [u, v, 4 * sqrt(u**2 + v**2)],\n",
    "    [-2, 2],\n",
    "    [0, (4 - u**2) ** (1 / 2)],\n",
    "    0.005,\n",
    ")\n",
    "calculate_errors(zad3_g, 8192 / 3 * pi)"
   ]
  },
  {
   "cell_type": "markdown",
   "metadata": {},
   "source": [
    "## g*)\n",
    "Możemy również zobaczyć jak wygląda przykład \"g\" we współrzędnych biegunowych"
   ]
  },
  {
   "cell_type": "code",
   "execution_count": 9,
   "metadata": {},
   "outputs": [
    {
     "name": "stdout",
     "output_type": "stream",
     "text": [
      "Computed Value: 8577.2307307958\n",
      "Absolute Error: 1.4116086067278957\n",
      "Relative Error: 0.02%\n"
     ]
    }
   ],
   "source": [
    "zad3_g_ii = flux(\n",
    "    [y**2, x**2, z**4], [u * cos(v), u * sin(v), 4 * u], [0, 2], [0, pi], 0.005\n",
    ")\n",
    "calculate_errors(zad3_g_ii, 8192 / 3 * pi)"
   ]
  },
  {
   "cell_type": "markdown",
   "metadata": {},
   "source": [
    "## Popełniany błąd\n",
    "\n",
    "Przeprowadźmy analizę popełnianego błędu na kilku z powyższych przykładóœ"
   ]
  },
  {
   "cell_type": "code",
   "execution_count": 10,
   "metadata": {},
   "outputs": [
    {
     "name": "stdout",
     "output_type": "stream",
     "text": [
      "Popełniany błąd: 0.17520119364380138 dx: 1.0\n",
      "Popełniany błąd: 0.12292710165786558 dx: 0.5\n",
      "Popełniany błąd: 0.07034826166866501 dx: 0.25\n",
      "Popełniany błąd: 0.03736052876670132 dx: 0.125\n",
      "Popełniany błąd: 0.01921985616957983 dx: 0.0625\n",
      "Popełniany błąd: 0.00974378443581389 dx: 0.03125\n",
      "Popełniany błąd: 0.004905215820355913 dx: 0.015625\n",
      "Popełniany błąd: 0.0024609206100575653 dx: 0.0078125\n",
      "Popełniany błąd: 0.0012325361650014632 dx: 0.00390625\n",
      "Popełniany błąd: 0.000616786755628429 dx: 0.001953125\n"
     ]
    }
   ],
   "source": [
    "for i in range(0, 10):\n",
    "    print(\n",
    "        \"Popełniany błąd:\",\n",
    "        abs(\n",
    "            1\n",
    "            - math.sinh(1)\n",
    "            - flux(\n",
    "                [cosh(y), 0, sinh(x)], [u, v, u + v**2], [0, 1], [0, u], (1 / 2) ** i\n",
    "            )\n",
    "        ),\n",
    "        \"dx:\",\n",
    "        (1 / 2) ** i,\n",
    "    )"
   ]
  },
  {
   "cell_type": "markdown",
   "metadata": {},
   "source": [
    "Widzimy zatem ze zmniejszenie długości boków  naszych kwadratów zmniejsza popełniany błąd bezwzględny o połowe."
   ]
  },
  {
   "cell_type": "markdown",
   "metadata": {},
   "source": [
    "## Bibliografia\n",
    "\n",
    "1. [Flux Integrals - Oregon State University](http://sites.science.oregonstate.edu/math/home/programs/undergrad/CalculusQuestStudyGuides/vcalc/flux/flux.html)\n",
    "\n",
    "2. [Double Integrals - Paul's Online Math Notes](https://tutorial.math.lamar.edu/classes/calciii/DoubleIntegrals.aspx)"
   ]
  }
 ],
 "metadata": {
  "kernelspec": {
   "display_name": "Python 3",
   "language": "python",
   "name": "python3"
  },
  "language_info": {
   "codemirror_mode": {
    "name": "ipython",
    "version": 3
   },
   "file_extension": ".py",
   "mimetype": "text/x-python",
   "name": "python",
   "nbconvert_exporter": "python",
   "pygments_lexer": "ipython3",
   "version": "3.10.12"
  }
 },
 "nbformat": 4,
 "nbformat_minor": 4
}
